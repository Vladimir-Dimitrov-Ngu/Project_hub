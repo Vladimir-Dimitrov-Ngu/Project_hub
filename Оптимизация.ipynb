{
 "cells": [
  {
   "cell_type": "code",
   "execution_count": 1,
   "id": "680928a1",
   "metadata": {},
   "outputs": [],
   "source": [
    "import pandas as pd \n",
    "import numpy as np\n",
    "import datetime\n",
    "import warnings\n",
    "from tqdm import tqdm\n",
    "from optimization import PSO\n",
    "warnings.filterwarnings('ignore')"
   ]
  },
  {
   "cell_type": "code",
   "execution_count": 2,
   "id": "3a3c68e2",
   "metadata": {},
   "outputs": [],
   "source": [
    "df = pd.read_csv('clear_data.csv', index_col=0, encoding='utf-32')"
   ]
  },
  {
   "cell_type": "code",
   "execution_count": 3,
   "id": "c85f589a",
   "metadata": {},
   "outputs": [],
   "source": [
    "df.drop('flight_cat', axis=1, inplace=True)"
   ]
  },
  {
   "cell_type": "markdown",
   "id": "36f9eb11",
   "metadata": {},
   "source": [
    "#### Предсказываем как меняется мгновенная механическая скорость "
   ]
  },
  {
   "cell_type": "code",
   "execution_count": 4,
   "id": "74850fda",
   "metadata": {},
   "outputs": [],
   "source": [
    "from sklearn.model_selection import train_test_split\n",
    "from sklearn.metrics import mean_squared_error\n",
    "X = df.drop('Мгновенная механическая скорость бурения', axis=1)\n",
    "y = df['Мгновенная механическая скорость бурения']\n",
    "X_train, X_test, y_train, y_test = train_test_split(X, y, test_size=0.2, shuffle=True, random_state=123)"
   ]
  },
  {
   "cell_type": "code",
   "execution_count": 5,
   "id": "982808f2",
   "metadata": {},
   "outputs": [
    {
     "data": {
      "text/plain": [
       "<catboost.core.CatBoostRegressor at 0x2f696b74ee0>"
      ]
     },
     "execution_count": 5,
     "metadata": {},
     "output_type": "execute_result"
    }
   ],
   "source": [
    "from catboost import CatBoostRegressor\n",
    "model = CatBoostRegressor(iterations=5500, \n",
    "                          depth=20, \n",
    "                          learning_rate=0.1, \n",
    "                          loss_function='RMSE',\n",
    "                          verbose=False)\n",
    "model.fit(X_train, y_train)"
   ]
  },
  {
   "cell_type": "code",
   "execution_count": 6,
   "id": "fa056ee8",
   "metadata": {},
   "outputs": [],
   "source": [
    "y_pred = model.predict(X_test)\n",
    "# mean_squared_error(y_pred, y_test) ** 0.5"
   ]
  },
  {
   "cell_type": "code",
   "execution_count": 10,
   "id": "9def1e2f",
   "metadata": {},
   "outputs": [],
   "source": [
    "feature_const = ['Давление промывочной жидкости', 'Крутящий момент на шпинделе','Глубина скважины (м)', 'plast']\n",
    "feature_dynamic = ['Частота вращения шпинделя','Осевая нагрузка', 'Расход промывочной жидкости']"
   ]
  },
  {
   "cell_type": "code",
   "execution_count": 11,
   "id": "20aad3bf",
   "metadata": {},
   "outputs": [
    {
     "data": {
      "text/plain": [
       "Давление промывочной жидкости      1.011864\n",
       "Крутящий момент на шпинделе      525.144068\n",
       "Глубина скважины (м)              16.876271\n",
       "plast                              0.000000\n",
       "Name: 2022-03-22 03:25:00, dtype: float64"
      ]
     },
     "execution_count": 11,
     "metadata": {},
     "output_type": "execute_result"
    }
   ],
   "source": [
    "df[(df['Мгновенная механическая скорость бурения'] > 0) & (df['Глубина скважины (м)'] > 5)][feature_const].iloc[10]"
   ]
  },
  {
   "cell_type": "code",
   "execution_count": 12,
   "id": "0a90881d",
   "metadata": {},
   "outputs": [
    {
     "data": {
      "text/plain": [
       "Частота вращения шпинделя      446.152542\n",
       "Осевая нагрузка                  0.372322\n",
       "Расход промывочной жидкости     22.033898\n",
       "Name: 2022-03-22 03:25:00, dtype: float64"
      ]
     },
     "execution_count": 12,
     "metadata": {},
     "output_type": "execute_result"
    }
   ],
   "source": [
    "df[(df['Мгновенная механическая скорость бурения'] > 0) & (df['Глубина скважины (м)'] > 5)][feature_dynamic].iloc[10]"
   ]
  },
  {
   "cell_type": "code",
   "execution_count": 13,
   "id": "88bb7359",
   "metadata": {},
   "outputs": [],
   "source": [
    "target = df[(df['Мгновенная механическая скорость бурения'] > 0) & (df['Глубина скважины (м)'] > 5)]['Мгновенная механическая скорость бурения'].iloc[10]"
   ]
  },
  {
   "cell_type": "code",
   "execution_count": 14,
   "id": "29f3c0ca",
   "metadata": {},
   "outputs": [],
   "source": [
    "func = lambda x, y, z : - model.predict(np.array((1, 525, x, y, z, 16, 0)))"
   ]
  },
  {
   "cell_type": "code",
   "execution_count": 15,
   "id": "e1f07fba",
   "metadata": {},
   "outputs": [],
   "source": [
    "bound = ((0, 400), (0, 10), (10, 140))\n",
    "var_name = ['Частота вращения шпинделя', 'Осевая нагрузка', 'Расход промывочной жидкости']\n",
    "POP_SIZE = 100\n",
    "w = 1\n",
    "c1 = 0.2\n",
    "c2 = 0.2\n",
    "v_max = 0.05\n",
    " \n",
    "pso = PSO(func, bound, POP_SIZE, w, c1, c2, v_max, var_name=var_name)"
   ]
  },
  {
   "cell_type": "code",
   "execution_count": 16,
   "id": "efab124f",
   "metadata": {},
   "outputs": [
    {
     "name": "stdout",
     "output_type": "stream",
     "text": [
      "[137.82979884   8.35609691  74.79005096] 12.328625220795313\n"
     ]
    }
   ],
   "source": [
    "for _ in range(15):\n",
    "    pso.pso()\n",
    "    #print(pso.get_fitness().sum())\n",
    "    \n",
    "print(pso.global_best, func(*pso.global_best))"
   ]
  },
  {
   "cell_type": "code",
   "execution_count": 17,
   "id": "2b540e7c",
   "metadata": {},
   "outputs": [
    {
     "data": {
      "text/html": [
       "<div>\n",
       "<style scoped>\n",
       "    .dataframe tbody tr th:only-of-type {\n",
       "        vertical-align: middle;\n",
       "    }\n",
       "\n",
       "    .dataframe tbody tr th {\n",
       "        vertical-align: top;\n",
       "    }\n",
       "\n",
       "    .dataframe thead th {\n",
       "        text-align: right;\n",
       "    }\n",
       "</style>\n",
       "<table border=\"1\" class=\"dataframe\">\n",
       "  <thead>\n",
       "    <tr style=\"text-align: right;\">\n",
       "      <th></th>\n",
       "      <th>Частота вращения шпинделя</th>\n",
       "      <th>Осевая нагрузка</th>\n",
       "      <th>Расход промывочной жидкости</th>\n",
       "      <th>fitness</th>\n",
       "    </tr>\n",
       "  </thead>\n",
       "  <tbody>\n",
       "    <tr>\n",
       "      <th>17</th>\n",
       "      <td>137.829799</td>\n",
       "      <td>8.356097</td>\n",
       "      <td>74.790051</td>\n",
       "      <td>12.328625</td>\n",
       "    </tr>\n",
       "    <tr>\n",
       "      <th>99</th>\n",
       "      <td>140.788106</td>\n",
       "      <td>8.504751</td>\n",
       "      <td>73.635814</td>\n",
       "      <td>12.328625</td>\n",
       "    </tr>\n",
       "  </tbody>\n",
       "</table>\n",
       "</div>"
      ],
      "text/plain": [
       "    Частота вращения шпинделя  Осевая нагрузка  Расход промывочной жидкости  \\\n",
       "17                 137.829799         8.356097                    74.790051   \n",
       "99                 140.788106         8.504751                    73.635814   \n",
       "\n",
       "      fitness  \n",
       "17  12.328625  \n",
       "99  12.328625  "
      ]
     },
     "execution_count": 17,
     "metadata": {},
     "output_type": "execute_result"
    }
   ],
   "source": [
    "table = pso.info()\n",
    "table[table['fitness'] == table['fitness'].max()]"
   ]
  },
  {
   "cell_type": "markdown",
   "id": "7212ca79",
   "metadata": {},
   "source": [
    "#### Сравнительная оптимизация"
   ]
  },
  {
   "cell_type": "code",
   "execution_count": 18,
   "id": "20b12ffb",
   "metadata": {},
   "outputs": [],
   "source": [
    "tg = df.columns[1]"
   ]
  },
  {
   "cell_type": "code",
   "execution_count": 133,
   "id": "de424878",
   "metadata": {},
   "outputs": [],
   "source": [
    "const = df[(df['Мгновенная механическая скорость бурения'] > 0) & (df['Глубина скважины (м)'] > 5)][feature_const][10:40]\n",
    "target = df[(df['Мгновенная механическая скорость бурения'] > 0) & (df['Глубина скважины (м)'] > 5)][tg][10:40]\n",
    "dynamic = df[(df['Мгновенная механическая скорость бурения'] > 0) & (df['Глубина скважины (м)'] > 5)][feature_dynamic][10:40]"
   ]
  },
  {
   "cell_type": "code",
   "execution_count": 59,
   "id": "2c12f790",
   "metadata": {},
   "outputs": [
    {
     "name": "stderr",
     "output_type": "stream",
     "text": [
      "100%|██████████████████████████████████████████████████████████████████████████████████| 30/30 [06:20<00:00, 12.69s/it]\n"
     ]
    }
   ],
   "source": [
    "optimize_data = pd.DataFrame()\n",
    "for j in tqdm(range(const.shape[0])):\n",
    "    observe = const.iloc[j]\n",
    "    func = lambda x, y, z : - model.predict(np.array((observe[0], observe[1], x, y, z, observe[2], observe[3])))\n",
    "    #func = lambda x, y, z: -model.predict(np.array((x, y, z)))\n",
    "    if j == 0:\n",
    "        bound = ((0, 400), (0, 10), (10, 140))\n",
    "    else:\n",
    "        bound = ((optimize_data.iloc[-1][0] * 0.97, optimize_data.iloc[-1][0] * 1.03),\n",
    "                (optimize_data.iloc[-1][1] * 0.9, optimize_data.iloc[-1][1] * 1.03),\n",
    "                (optimize_data.iloc[-1][2] * 0.95, optimize_data.iloc[-1][2] * 1.1))\n",
    "    var_name = ['Частота вращения шпинделя', 'Осевая нагрузка', 'Расход промывочной жидкости']\n",
    "    POP_SIZE = 100\n",
    "    w = 1\n",
    "    c1 = 0.2\n",
    "    c2 = 0.2\n",
    "    v_max = 0.05\n",
    "    pso = PSO(func, bound, POP_SIZE, w, c1, c2, v_max, var_name=var_name)\n",
    "    for _ in range(25):\n",
    "        pso.pso()\n",
    "    #print(pso.global_best, func(*pso.global_best))\n",
    "    table = pso.info()\n",
    "#     if j > 0:\n",
    "#         a = np.abs((table[table['fitness'] == table['fitness'].max()].iloc[0][-1] - optimize_data['fitness'].iloc[-1]))/optimize_data['fitness'].iloc[-1]\n",
    "#         print(a)\n",
    "    if j > 0 and a > 0.3:\n",
    "        for _ in range(25 + 10):\n",
    "            pso.pso()\n",
    "    table = pso.info()   \n",
    "    optimize_data = optimize_data.append(table[table['fitness'] == table['fitness'].max()].iloc[0])\n",
    "optimize_data.reset_index(drop = True, inplace = True)"
   ]
  },
  {
   "cell_type": "markdown",
   "id": "d9b81df0",
   "metadata": {},
   "source": [
    "#### Результаты"
   ]
  },
  {
   "cell_type": "code",
   "execution_count": 62,
   "id": "22b9bd2d",
   "metadata": {},
   "outputs": [
    {
     "data": {
      "text/html": [
       "<div>\n",
       "<style scoped>\n",
       "    .dataframe tbody tr th:only-of-type {\n",
       "        vertical-align: middle;\n",
       "    }\n",
       "\n",
       "    .dataframe tbody tr th {\n",
       "        vertical-align: top;\n",
       "    }\n",
       "\n",
       "    .dataframe thead th {\n",
       "        text-align: right;\n",
       "    }\n",
       "</style>\n",
       "<table border=\"1\" class=\"dataframe\">\n",
       "  <thead>\n",
       "    <tr style=\"text-align: right;\">\n",
       "      <th></th>\n",
       "      <th>Частота вращения шпинделя</th>\n",
       "      <th>Осевая нагрузка</th>\n",
       "      <th>Расход промывочной жидкости</th>\n",
       "      <th>fitness</th>\n",
       "    </tr>\n",
       "  </thead>\n",
       "  <tbody>\n",
       "    <tr>\n",
       "      <th>0</th>\n",
       "      <td>136.179992</td>\n",
       "      <td>6.201709</td>\n",
       "      <td>72.109195</td>\n",
       "      <td>12.328625</td>\n",
       "    </tr>\n",
       "    <tr>\n",
       "      <th>1</th>\n",
       "      <td>133.823674</td>\n",
       "      <td>5.581538</td>\n",
       "      <td>70.841885</td>\n",
       "      <td>13.238786</td>\n",
       "    </tr>\n",
       "    <tr>\n",
       "      <th>2</th>\n",
       "      <td>134.113444</td>\n",
       "      <td>5.050433</td>\n",
       "      <td>70.220529</td>\n",
       "      <td>13.290086</td>\n",
       "    </tr>\n",
       "    <tr>\n",
       "      <th>3</th>\n",
       "      <td>134.526552</td>\n",
       "      <td>4.596633</td>\n",
       "      <td>69.362998</td>\n",
       "      <td>12.253252</td>\n",
       "    </tr>\n",
       "    <tr>\n",
       "      <th>4</th>\n",
       "      <td>138.562349</td>\n",
       "      <td>4.136970</td>\n",
       "      <td>69.946540</td>\n",
       "      <td>6.310388</td>\n",
       "    </tr>\n",
       "    <tr>\n",
       "      <th>5</th>\n",
       "      <td>134.470213</td>\n",
       "      <td>3.767857</td>\n",
       "      <td>76.941194</td>\n",
       "      <td>6.371341</td>\n",
       "    </tr>\n",
       "    <tr>\n",
       "      <th>6</th>\n",
       "      <td>134.499533</td>\n",
       "      <td>3.409565</td>\n",
       "      <td>78.870634</td>\n",
       "      <td>6.371341</td>\n",
       "    </tr>\n",
       "    <tr>\n",
       "      <th>7</th>\n",
       "      <td>133.653272</td>\n",
       "      <td>3.178873</td>\n",
       "      <td>86.757697</td>\n",
       "      <td>7.573026</td>\n",
       "    </tr>\n",
       "    <tr>\n",
       "      <th>8</th>\n",
       "      <td>135.719200</td>\n",
       "      <td>3.190411</td>\n",
       "      <td>93.716748</td>\n",
       "      <td>8.371306</td>\n",
       "    </tr>\n",
       "    <tr>\n",
       "      <th>9</th>\n",
       "      <td>134.206752</td>\n",
       "      <td>3.189165</td>\n",
       "      <td>92.620621</td>\n",
       "      <td>8.371306</td>\n",
       "    </tr>\n",
       "    <tr>\n",
       "      <th>10</th>\n",
       "      <td>136.068539</td>\n",
       "      <td>3.201881</td>\n",
       "      <td>98.041047</td>\n",
       "      <td>8.371306</td>\n",
       "    </tr>\n",
       "    <tr>\n",
       "      <th>11</th>\n",
       "      <td>134.743808</td>\n",
       "      <td>3.127290</td>\n",
       "      <td>93.138995</td>\n",
       "      <td>8.371306</td>\n",
       "    </tr>\n",
       "    <tr>\n",
       "      <th>12</th>\n",
       "      <td>137.344955</td>\n",
       "      <td>3.220313</td>\n",
       "      <td>88.482045</td>\n",
       "      <td>9.970414</td>\n",
       "    </tr>\n",
       "    <tr>\n",
       "      <th>13</th>\n",
       "      <td>135.727541</td>\n",
       "      <td>3.172072</td>\n",
       "      <td>88.112586</td>\n",
       "      <td>9.054904</td>\n",
       "    </tr>\n",
       "    <tr>\n",
       "      <th>14</th>\n",
       "      <td>133.871549</td>\n",
       "      <td>3.223713</td>\n",
       "      <td>87.360547</td>\n",
       "      <td>9.054904</td>\n",
       "    </tr>\n",
       "    <tr>\n",
       "      <th>15</th>\n",
       "      <td>133.530153</td>\n",
       "      <td>3.208446</td>\n",
       "      <td>86.291243</td>\n",
       "      <td>1.053051</td>\n",
       "    </tr>\n",
       "    <tr>\n",
       "      <th>16</th>\n",
       "      <td>134.015629</td>\n",
       "      <td>3.290901</td>\n",
       "      <td>89.251865</td>\n",
       "      <td>9.156937</td>\n",
       "    </tr>\n",
       "    <tr>\n",
       "      <th>17</th>\n",
       "      <td>136.102054</td>\n",
       "      <td>3.324845</td>\n",
       "      <td>89.897191</td>\n",
       "      <td>6.487795</td>\n",
       "    </tr>\n",
       "    <tr>\n",
       "      <th>18</th>\n",
       "      <td>134.904559</td>\n",
       "      <td>3.387501</td>\n",
       "      <td>90.092051</td>\n",
       "      <td>11.455037</td>\n",
       "    </tr>\n",
       "    <tr>\n",
       "      <th>19</th>\n",
       "      <td>137.451910</td>\n",
       "      <td>3.228169</td>\n",
       "      <td>86.835580</td>\n",
       "      <td>11.468146</td>\n",
       "    </tr>\n",
       "    <tr>\n",
       "      <th>20</th>\n",
       "      <td>135.959122</td>\n",
       "      <td>3.218936</td>\n",
       "      <td>90.515915</td>\n",
       "      <td>11.468146</td>\n",
       "    </tr>\n",
       "    <tr>\n",
       "      <th>21</th>\n",
       "      <td>134.494211</td>\n",
       "      <td>3.156586</td>\n",
       "      <td>85.990119</td>\n",
       "      <td>10.776866</td>\n",
       "    </tr>\n",
       "    <tr>\n",
       "      <th>22</th>\n",
       "      <td>136.241858</td>\n",
       "      <td>3.180637</td>\n",
       "      <td>90.665615</td>\n",
       "      <td>15.673675</td>\n",
       "    </tr>\n",
       "    <tr>\n",
       "      <th>23</th>\n",
       "      <td>134.064837</td>\n",
       "      <td>3.130949</td>\n",
       "      <td>86.132334</td>\n",
       "      <td>12.301082</td>\n",
       "    </tr>\n",
       "    <tr>\n",
       "      <th>24</th>\n",
       "      <td>136.433374</td>\n",
       "      <td>3.224878</td>\n",
       "      <td>88.372697</td>\n",
       "      <td>12.850619</td>\n",
       "    </tr>\n",
       "    <tr>\n",
       "      <th>25</th>\n",
       "      <td>134.396008</td>\n",
       "      <td>3.264221</td>\n",
       "      <td>87.270840</td>\n",
       "      <td>15.545166</td>\n",
       "    </tr>\n",
       "    <tr>\n",
       "      <th>26</th>\n",
       "      <td>137.559140</td>\n",
       "      <td>3.305281</td>\n",
       "      <td>88.716256</td>\n",
       "      <td>15.545166</td>\n",
       "    </tr>\n",
       "    <tr>\n",
       "      <th>27</th>\n",
       "      <td>135.455571</td>\n",
       "      <td>3.193558</td>\n",
       "      <td>87.528937</td>\n",
       "      <td>15.545166</td>\n",
       "    </tr>\n",
       "    <tr>\n",
       "      <th>28</th>\n",
       "      <td>137.298060</td>\n",
       "      <td>3.236455</td>\n",
       "      <td>88.581670</td>\n",
       "      <td>15.453752</td>\n",
       "    </tr>\n",
       "    <tr>\n",
       "      <th>29</th>\n",
       "      <td>135.623351</td>\n",
       "      <td>3.135074</td>\n",
       "      <td>88.191104</td>\n",
       "      <td>15.453752</td>\n",
       "    </tr>\n",
       "  </tbody>\n",
       "</table>\n",
       "</div>"
      ],
      "text/plain": [
       "    Частота вращения шпинделя  Осевая нагрузка  Расход промывочной жидкости  \\\n",
       "0                  136.179992         6.201709                    72.109195   \n",
       "1                  133.823674         5.581538                    70.841885   \n",
       "2                  134.113444         5.050433                    70.220529   \n",
       "3                  134.526552         4.596633                    69.362998   \n",
       "4                  138.562349         4.136970                    69.946540   \n",
       "5                  134.470213         3.767857                    76.941194   \n",
       "6                  134.499533         3.409565                    78.870634   \n",
       "7                  133.653272         3.178873                    86.757697   \n",
       "8                  135.719200         3.190411                    93.716748   \n",
       "9                  134.206752         3.189165                    92.620621   \n",
       "10                 136.068539         3.201881                    98.041047   \n",
       "11                 134.743808         3.127290                    93.138995   \n",
       "12                 137.344955         3.220313                    88.482045   \n",
       "13                 135.727541         3.172072                    88.112586   \n",
       "14                 133.871549         3.223713                    87.360547   \n",
       "15                 133.530153         3.208446                    86.291243   \n",
       "16                 134.015629         3.290901                    89.251865   \n",
       "17                 136.102054         3.324845                    89.897191   \n",
       "18                 134.904559         3.387501                    90.092051   \n",
       "19                 137.451910         3.228169                    86.835580   \n",
       "20                 135.959122         3.218936                    90.515915   \n",
       "21                 134.494211         3.156586                    85.990119   \n",
       "22                 136.241858         3.180637                    90.665615   \n",
       "23                 134.064837         3.130949                    86.132334   \n",
       "24                 136.433374         3.224878                    88.372697   \n",
       "25                 134.396008         3.264221                    87.270840   \n",
       "26                 137.559140         3.305281                    88.716256   \n",
       "27                 135.455571         3.193558                    87.528937   \n",
       "28                 137.298060         3.236455                    88.581670   \n",
       "29                 135.623351         3.135074                    88.191104   \n",
       "\n",
       "      fitness  \n",
       "0   12.328625  \n",
       "1   13.238786  \n",
       "2   13.290086  \n",
       "3   12.253252  \n",
       "4    6.310388  \n",
       "5    6.371341  \n",
       "6    6.371341  \n",
       "7    7.573026  \n",
       "8    8.371306  \n",
       "9    8.371306  \n",
       "10   8.371306  \n",
       "11   8.371306  \n",
       "12   9.970414  \n",
       "13   9.054904  \n",
       "14   9.054904  \n",
       "15   1.053051  \n",
       "16   9.156937  \n",
       "17   6.487795  \n",
       "18  11.455037  \n",
       "19  11.468146  \n",
       "20  11.468146  \n",
       "21  10.776866  \n",
       "22  15.673675  \n",
       "23  12.301082  \n",
       "24  12.850619  \n",
       "25  15.545166  \n",
       "26  15.545166  \n",
       "27  15.545166  \n",
       "28  15.453752  \n",
       "29  15.453752  "
      ]
     },
     "execution_count": 62,
     "metadata": {},
     "output_type": "execute_result"
    }
   ],
   "source": [
    "optimize_data"
   ]
  },
  {
   "cell_type": "code",
   "execution_count": 66,
   "id": "8d54d4f0",
   "metadata": {},
   "outputs": [
    {
     "data": {
      "text/plain": [
       "timestamps\n",
       "2022-03-22 03:25:00     5.625424\n",
       "2022-03-22 03:30:00     5.803333\n",
       "2022-03-22 03:35:00     6.783333\n",
       "2022-03-22 03:40:00     8.020000\n",
       "2022-03-22 03:45:00     6.525581\n",
       "2022-03-22 03:50:00     6.525581\n",
       "2022-03-22 03:55:00     6.525581\n",
       "2022-03-22 04:00:00     6.525581\n",
       "2022-03-22 04:05:00     6.525581\n",
       "2022-03-22 04:10:00     6.525581\n",
       "2022-03-22 04:15:00     6.525581\n",
       "2022-03-22 04:20:00     6.525581\n",
       "2022-03-22 04:25:00     6.941176\n",
       "2022-03-22 04:30:00     5.436000\n",
       "2022-03-22 04:35:00     5.436000\n",
       "2022-03-22 04:40:00     7.957143\n",
       "2022-03-22 05:00:00    21.847458\n",
       "2022-03-22 05:05:00     5.506250\n",
       "2022-03-22 05:30:00     8.616667\n",
       "2022-03-22 05:35:00     6.420339\n",
       "2022-03-22 05:40:00     6.200000\n",
       "2022-03-22 05:45:00     6.267797\n",
       "2022-03-22 05:50:00     7.108333\n",
       "2022-03-22 05:55:00     7.250000\n",
       "2022-03-22 06:00:00     6.084615\n",
       "2022-03-22 06:05:00     5.200000\n",
       "2022-03-22 06:10:00     5.200000\n",
       "2022-03-22 06:15:00     5.200000\n",
       "2022-03-22 06:50:00     6.400000\n",
       "2022-03-22 06:55:00     6.400000\n",
       "Name: Мгновенная механическая скорость бурения, dtype: float64"
      ]
     },
     "execution_count": 66,
     "metadata": {},
     "output_type": "execute_result"
    }
   ],
   "source": [
    "target"
   ]
  }
 ],
 "metadata": {
  "kernelspec": {
   "display_name": "Python 3 (ipykernel)",
   "language": "python",
   "name": "python3"
  },
  "language_info": {
   "codemirror_mode": {
    "name": "ipython",
    "version": 3
   },
   "file_extension": ".py",
   "mimetype": "text/x-python",
   "name": "python",
   "nbconvert_exporter": "python",
   "pygments_lexer": "ipython3",
   "version": "3.9.7"
  },
  "varInspector": {
   "cols": {
    "lenName": 16,
    "lenType": 16,
    "lenVar": 40
   },
   "kernels_config": {
    "python": {
     "delete_cmd_postfix": "",
     "delete_cmd_prefix": "del ",
     "library": "var_list.py",
     "varRefreshCmd": "print(var_dic_list())"
    },
    "r": {
     "delete_cmd_postfix": ") ",
     "delete_cmd_prefix": "rm(",
     "library": "var_list.r",
     "varRefreshCmd": "cat(var_dic_list()) "
    }
   },
   "types_to_exclude": [
    "module",
    "function",
    "builtin_function_or_method",
    "instance",
    "_Feature"
   ],
   "window_display": false
  }
 },
 "nbformat": 4,
 "nbformat_minor": 5
}
